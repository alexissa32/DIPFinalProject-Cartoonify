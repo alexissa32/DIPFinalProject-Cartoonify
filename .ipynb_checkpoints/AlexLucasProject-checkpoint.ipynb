{
 "cells": [
  {
   "cell_type": "code",
   "execution_count": 1,
   "metadata": {},
   "outputs": [],
   "source": [
    "import cv2"
   ]
  },
  {
   "cell_type": "code",
   "execution_count": 2,
   "metadata": {},
   "outputs": [],
   "source": [
    "#our dataset: http://pascal.inrialpes.fr/data/human/"
   ]
  },
  {
   "cell_type": "code",
   "execution_count": 3,
   "metadata": {},
   "outputs": [],
   "source": [
    "#load in image and detect face(s), https://realpython.com/face-recognition-with-python/ (need adjust size of squares to include hair)"
   ]
  },
  {
   "cell_type": "code",
   "execution_count": 4,
   "metadata": {},
   "outputs": [],
   "source": [
    "#send face(s) through super resolution network, (????? TODO, train on Colab, load here, find LR/SR face dataset as well)"
   ]
  },
  {
   "cell_type": "code",
   "execution_count": 5,
   "metadata": {},
   "outputs": [],
   "source": [
    "#overlay big face on OG image (easy)"
   ]
  },
  {
   "cell_type": "code",
   "execution_count": 6,
   "metadata": {},
   "outputs": [],
   "source": [
    "#cartoonify image and display\n",
    "#https://analyticsindiamag.com/converting-image-into-a-pencil-sketch-in-python/\n",
    "#OR\n",
    "#https://analyticsindiamag.com/converting-an-image-to-a-cartoon/?fbclid=IwAR1KsgK4sj3mpkUU-kIolQS1kUFnkkCo5bLDeq4BFPvfOzXRa-_gHF_PbWw"
   ]
  },
  {
   "cell_type": "code",
   "execution_count": 7,
   "metadata": {},
   "outputs": [],
   "source": [
    "#OTHER ideas include changing what we big-ify, changing the background (to a touristy place) and the weather..."
   ]
  },
  {
   "cell_type": "code",
   "execution_count": null,
   "metadata": {},
   "outputs": [],
   "source": []
  }
 ],
 "metadata": {
  "kernelspec": {
   "display_name": "Python 3",
   "language": "python",
   "name": "python3"
  },
  "language_info": {
   "codemirror_mode": {
    "name": "ipython",
    "version": 3
   },
   "file_extension": ".py",
   "mimetype": "text/x-python",
   "name": "python",
   "nbconvert_exporter": "python",
   "pygments_lexer": "ipython3",
   "version": "3.6.10"
  }
 },
 "nbformat": 4,
 "nbformat_minor": 4
}
