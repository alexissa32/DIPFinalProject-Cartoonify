{
 "cells": [
  {
   "cell_type": "code",
   "execution_count": null,
   "metadata": {},
   "outputs": [],
   "source": [
    "import os.path\n",
    "from os import path\n",
    "from PIL import Image"
   ]
  },
  {
   "cell_type": "code",
   "execution_count": null,
   "metadata": {},
   "outputs": [],
   "source": [
    "#https://stackoverflow.com/questions/7936154/python-image-library-clean-downsampling\n",
    "for i in range(0, 75000):\n",
    "    if(path.exists('../thumbnails128x128-20201125T005521Z-001/thumbnails128x128/'+str(i).zfill(5)+'.png')):\n",
    "        #img = cv2.imread('../thumbnails128x128-20201125T005521Z-001/thumbnails128x128/'+str(i).zfill(5)+'.png',0)\n",
    "        #img = np.array(Image.open('../thumbnails128x128-20201125T005521Z-001/thumbnails128x128/'+str(i).zfill(5)+'.png'))\n",
    "        img = Image.open('../thumbnails128x128-20201125T005521Z-001/thumbnails128x128/'+str(i).zfill(5)+'.png')\n",
    "        if 'P' in img.mode: # check if image is a palette type\n",
    "            img = img.convert(\"RGB\") # convert it to RGB\n",
    "            img = img.resize((32,32),Image.ANTIALIAS) # resize it from 128x128\n",
    "            img = img.convert(\"P\",dither=Image.NONE, palette=Image.ADAPTIVE) #convert back to palette\n",
    "        else:\n",
    "            img = img.resize((32,32),Image.ANTIALIAS) # regular resize\n",
    "        img.save('../32x32/'+str(i).zfill(5)+'.png') "
   ]
  },
  {
   "cell_type": "code",
   "execution_count": null,
   "metadata": {},
   "outputs": [],
   "source": []
  }
 ],
 "metadata": {
  "kernelspec": {
   "display_name": "Python 3",
   "language": "python",
   "name": "python3"
  },
  "language_info": {
   "codemirror_mode": {
    "name": "ipython",
    "version": 3
   },
   "file_extension": ".py",
   "mimetype": "text/x-python",
   "name": "python",
   "nbconvert_exporter": "python",
   "pygments_lexer": "ipython3",
   "version": "3.6.10"
  }
 },
 "nbformat": 4,
 "nbformat_minor": 4
}
